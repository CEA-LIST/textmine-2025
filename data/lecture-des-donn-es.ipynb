{
 "cells": [
  {
   "cell_type": "markdown",
   "id": "2db0ad28",
   "metadata": {
    "papermill": {
     "duration": 0.004045,
     "end_time": "2024-06-20T09:52:05.354597",
     "exception": false,
     "start_time": "2024-06-20T09:52:05.350552",
     "status": "completed"
    },
    "tags": []
   },
   "source": [
    "# Défi TextMine 2025 : Lecture les données"
   ]
  },
  {
   "cell_type": "markdown",
   "id": "a811e7bb",
   "metadata": {
    "papermill": {
     "duration": 0.003128,
     "end_time": "2024-06-20T09:52:05.361365",
     "exception": false,
     "start_time": "2024-06-20T09:52:05.358237",
     "status": "completed"
    },
    "tags": []
   },
   "source": [
    "## Chargement\n",
    "\n",
    "1. On charge le CSV avec `pandas`.\n",
    "2. On parse les colonnes \"entities\" et \"relations\" avec `json`."
   ]
  },
  {
   "cell_type": "code",
   "execution_count": 1,
   "id": "7232d117",
   "metadata": {
    "_cell_guid": "b1076dfc-b9ad-4769-8c92-a6c4dae69d19",
    "_uuid": "8f2839f25d086af736a60e9eeb907d3b93b6e0e5",
    "execution": {
     "iopub.execute_input": "2024-06-20T09:52:05.369902Z",
     "iopub.status.busy": "2024-06-20T09:52:05.369451Z",
     "iopub.status.idle": "2024-06-20T09:52:06.981308Z",
     "shell.execute_reply": "2024-06-20T09:52:06.979684Z"
    },
    "papermill": {
     "duration": 1.619567,
     "end_time": "2024-06-20T09:52:06.984246",
     "exception": false,
     "start_time": "2024-06-20T09:52:05.364679",
     "status": "completed"
    },
    "tags": []
   },
   "outputs": [
    {
     "data": {
      "text/html": [
       "<div>\n",
       "<style scoped>\n",
       "    .dataframe tbody tr th:only-of-type {\n",
       "        vertical-align: middle;\n",
       "    }\n",
       "\n",
       "    .dataframe tbody tr th {\n",
       "        vertical-align: top;\n",
       "    }\n",
       "\n",
       "    .dataframe thead th {\n",
       "        text-align: right;\n",
       "    }\n",
       "</style>\n",
       "<table border=\"1\" class=\"dataframe\">\n",
       "  <thead>\n",
       "    <tr style=\"text-align: right;\">\n",
       "      <th></th>\n",
       "      <th>text</th>\n",
       "      <th>entities</th>\n",
       "      <th>relations</th>\n",
       "    </tr>\n",
       "    <tr>\n",
       "      <th>id</th>\n",
       "      <th></th>\n",
       "      <th></th>\n",
       "      <th></th>\n",
       "    </tr>\n",
       "  </thead>\n",
       "  <tbody>\n",
       "    <tr>\n",
       "      <th>181</th>\n",
       "      <td>Anam Destresse, président de l'ONG \"Ma passion...</td>\n",
       "      <td>[{'id': 0, 'mentions': [{'value': 'accident', ...</td>\n",
       "      <td>[[0, STARTED_IN, 9], [7, IS_LOCATED_IN, 9], [5...</td>\n",
       "    </tr>\n",
       "    <tr>\n",
       "      <th>31669</th>\n",
       "      <td>À Paris, le 8 avril 2022, l'usine de déodorant...</td>\n",
       "      <td>[{'id': 0, 'mentions': [{'value': 'explosé', '...</td>\n",
       "      <td>[[9, IS_LOCATED_IN, 8], [11, OPERATES_IN, 8], ...</td>\n",
       "    </tr>\n",
       "    <tr>\n",
       "      <th>51470</th>\n",
       "      <td>En Espagne, dans une région agricole, une cont...</td>\n",
       "      <td>[{'id': 0, 'mentions': [{'value': 'contaminati...</td>\n",
       "      <td>[[7, IS_PART_OF, 8], [9, OPERATES_IN, 1], [0, ...</td>\n",
       "    </tr>\n",
       "    <tr>\n",
       "      <th>51332</th>\n",
       "      <td>Un important incendie a fait des ravages dans ...</td>\n",
       "      <td>[{'id': 0, 'mentions': [{'value': 'incendie', ...</td>\n",
       "      <td>[[12, IS_IN_CONTACT_WITH, 5], [0, IS_LOCATED_I...</td>\n",
       "    </tr>\n",
       "    <tr>\n",
       "      <th>1131</th>\n",
       "      <td>« Je coule » : onze heures après avoir envoyé ...</td>\n",
       "      <td>[{'id': 0, 'mentions': [{'value': 'renversé', ...</td>\n",
       "      <td>[[9, IS_LOCATED_IN, 2], [0, START_DATE, 17], [...</td>\n",
       "    </tr>\n",
       "  </tbody>\n",
       "</table>\n",
       "</div>"
      ],
      "text/plain": [
       "                                                    text  \\\n",
       "id                                                         \n",
       "181    Anam Destresse, président de l'ONG \"Ma passion...   \n",
       "31669  À Paris, le 8 avril 2022, l'usine de déodorant...   \n",
       "51470  En Espagne, dans une région agricole, une cont...   \n",
       "51332  Un important incendie a fait des ravages dans ...   \n",
       "1131   « Je coule » : onze heures après avoir envoyé ...   \n",
       "\n",
       "                                                entities  \\\n",
       "id                                                         \n",
       "181    [{'id': 0, 'mentions': [{'value': 'accident', ...   \n",
       "31669  [{'id': 0, 'mentions': [{'value': 'explosé', '...   \n",
       "51470  [{'id': 0, 'mentions': [{'value': 'contaminati...   \n",
       "51332  [{'id': 0, 'mentions': [{'value': 'incendie', ...   \n",
       "1131   [{'id': 0, 'mentions': [{'value': 'renversé', ...   \n",
       "\n",
       "                                               relations  \n",
       "id                                                        \n",
       "181    [[0, STARTED_IN, 9], [7, IS_LOCATED_IN, 9], [5...  \n",
       "31669  [[9, IS_LOCATED_IN, 8], [11, OPERATES_IN, 8], ...  \n",
       "51470  [[7, IS_PART_OF, 8], [9, OPERATES_IN, 1], [0, ...  \n",
       "51332  [[12, IS_IN_CONTACT_WITH, 5], [0, IS_LOCATED_I...  \n",
       "1131   [[9, IS_LOCATED_IN, 2], [0, START_DATE, 17], [...  "
      ]
     },
     "execution_count": 1,
     "metadata": {},
     "output_type": "execute_result"
    }
   ],
   "source": [
    "import pandas as pd\n",
    "import json\n",
    "\n",
    "train_df = pd.read_csv(\"train.csv\") # chargement des données d'entraînement depuis Kaggle\n",
    "train_df = train_df.set_index(\"id\")\n",
    "train_df.entities = train_df.entities.apply(json.loads) # parsing des entités\n",
    "train_df.relations = train_df.relations.apply(json.loads) # parsing des relations\n",
    "train_df.head()"
   ]
  },
  {
   "cell_type": "markdown",
   "id": "5681ec39",
   "metadata": {
    "papermill": {
     "duration": 0.003656,
     "end_time": "2024-06-20T09:52:06.992260",
     "exception": false,
     "start_time": "2024-06-20T09:52:06.988604",
     "status": "completed"
    },
    "tags": []
   },
   "source": [
    "## Manipulation\n",
    "\n",
    "Les entités liées à un texte sont décrites par des dictionnaires stockés dans une liste."
   ]
  },
  {
   "cell_type": "code",
   "execution_count": 2,
   "id": "d3a99ada",
   "metadata": {},
   "outputs": [
    {
     "data": {
      "text/plain": [
       "'Anam Destresse, président de l\\'ONG \"Ma passion\", a été blessé dans un accident. Le 30 juin 2022, un accident de circulation s\\'est produit entre une moto et un bus sur l\\'autoroute de Saint-Marin en Italie. Le bus, qui transportait 20 passagers, appartenait à l\\'ONG. Lors de l\\'accident, les panneaux de signalisation ont été complètement endommagés et le garde du corps a été blessé. Au total, deux passagers sont morts sur le coup. Anam Destresse, qui faisait partie des blessés, a été transporté en hélicoptère jusqu\\'à l\\'hôpital. Le conducteur de la moto a été retrouvé mort en dessous du bus. Il conduisait sans permis et en état d\\'ivresse.'"
      ]
     },
     "execution_count": 2,
     "metadata": {},
     "output_type": "execute_result"
    }
   ],
   "source": [
    "train_df.loc[181].text "
   ]
  },
  {
   "cell_type": "code",
   "execution_count": 4,
   "id": "2e4e9e06",
   "metadata": {},
   "outputs": [
    {
     "data": {
      "text/plain": [
       "{'id': 9,\n",
       " 'mentions': [{'value': 'autoroute de Saint-Marin', 'start': 169, 'end': 193}],\n",
       " 'type': 'PLACE'}"
      ]
     },
     "execution_count": 4,
     "metadata": {},
     "output_type": "execute_result"
    }
   ],
   "source": [
    "text_181_entity_0 = train_df.loc[181].entities[9] # sélection de la première entité listée pour le texte 181\n",
    "text_181_entity_0"
   ]
  },
  {
   "cell_type": "code",
   "execution_count": 3,
   "id": "00f03af8",
   "metadata": {
    "execution": {
     "iopub.execute_input": "2024-06-20T09:52:07.001982Z",
     "iopub.status.busy": "2024-06-20T09:52:07.001504Z",
     "iopub.status.idle": "2024-06-20T09:52:07.011604Z",
     "shell.execute_reply": "2024-06-20T09:52:07.010455Z"
    },
    "papermill": {
     "duration": 0.018409,
     "end_time": "2024-06-20T09:52:07.014542",
     "exception": false,
     "start_time": "2024-06-20T09:52:06.996133",
     "status": "completed"
    },
    "tags": []
   },
   "outputs": [
    {
     "name": "stdout",
     "output_type": "stream",
     "text": [
      "{'id': 0, 'mentions': [{'value': 'accident', 'start': 70, 'end': 78}, {'value': 'accident de circulation', 'start': 100, 'end': 123}, {'value': 'accident', 'start': 275, 'end': 283}], 'type': 'ACCIDENT'}\n",
      "{'value': 'accident', 'start': 70, 'end': 78}\n",
      "accident\n"
     ]
    }
   ],
   "source": [
    "text_181_entity_0 = train_df.loc[181].entities[0] # sélection de la première entité listée pour le texte 181\n",
    "print(text_181_entity_0) # affichage de la description complète de l'entité\n",
    "print(text_181_entity_0[\"mentions\"][0]) # affichage de la description de la première mention de l'entité\n",
    "print(text_181_entity_0[\"mentions\"][0][\"value\"]) # affichage de la valeur de l'entité"
   ]
  },
  {
   "cell_type": "markdown",
   "id": "0be39f36",
   "metadata": {
    "papermill": {
     "duration": 0.003736,
     "end_time": "2024-06-20T09:52:07.022677",
     "exception": false,
     "start_time": "2024-06-20T09:52:07.018941",
     "status": "completed"
    },
    "tags": []
   },
   "source": [
    "Les relations liées à un texte sont décrites par des triplets stockés dans une liste."
   ]
  },
  {
   "cell_type": "code",
   "execution_count": 4,
   "id": "a452e574",
   "metadata": {
    "execution": {
     "iopub.execute_input": "2024-06-20T09:52:07.032473Z",
     "iopub.status.busy": "2024-06-20T09:52:07.031996Z",
     "iopub.status.idle": "2024-06-20T09:52:07.040298Z",
     "shell.execute_reply": "2024-06-20T09:52:07.038827Z"
    },
    "papermill": {
     "duration": 0.016648,
     "end_time": "2024-06-20T09:52:07.043280",
     "exception": false,
     "start_time": "2024-06-20T09:52:07.026632",
     "status": "completed"
    },
    "tags": []
   },
   "outputs": [
    {
     "name": "stdout",
     "output_type": "stream",
     "text": [
      "[0, 'STARTED_IN', 9]\n",
      "0\n",
      "STARTED_IN\n",
      "9\n"
     ]
    }
   ],
   "source": [
    "text_181_relation_0 = train_df.loc[181].relations[0] # sélection de la première relation listée pour le texte 181\n",
    "print(text_181_relation_0) # affichage de la description complète de la relation\n",
    "print(text_181_relation_0[0]) # affichage de l'entité source de la relation\n",
    "print(text_181_relation_0[1]) # affichage du type de la relation\n",
    "print(text_181_relation_0[2]) # affichage de l'entité cible de la relation"
   ]
  },
  {
   "cell_type": "code",
   "execution_count": 5,
   "id": "080a00e6",
   "metadata": {},
   "outputs": [
    {
     "name": "stdout",
     "output_type": "stream",
     "text": [
      "Anam Destresse, président de l'ONG \"Ma passion\", a été blessé dans un accident. Le 30 juin 2022, un accident de circulation s'est produit entre une moto et un bus sur l'autoroute de Saint-Marin en Italie. Le bus, qui transportait 20 passagers, appartenait à l'ONG. Lors de l'accident, les panneaux de signalisation ont été complètement endommagés et le garde du corps a été blessé. Au total, deux passagers sont morts sur le coup. Anam Destresse, qui faisait partie des blessés, a été transporté en hélicoptère jusqu'à l'hôpital. Le conducteur de la moto a été retrouvé mort en dessous du bus. Il conduisait sans permis et en état d'ivresse.\n",
      "[{'id': 0, 'mentions': [{'value': 'accident', 'start': 70, 'end': 78}, {'value': 'accident de circulation', 'start': 100, 'end': 123}, {'value': 'accident', 'start': 275, 'end': 283}], 'type': 'ACCIDENT'}, {'id': 1, 'mentions': [{'value': 'Anam Destresse', 'start': 0, 'end': 14}, {'value': 'Anam Destresse', 'start': 431, 'end': 445}], 'type': 'CIVILIAN'}, {'id': 2, 'mentions': [{'value': 'moto', 'start': 148, 'end': 152}, {'value': 'moto', 'start': 550, 'end': 554}], 'type': 'MATERIEL'}, {'id': 3, 'mentions': [{'value': 'bus', 'start': 159, 'end': 162}, {'value': 'bus', 'start': 208, 'end': 211}, {'value': 'bus', 'start': 589, 'end': 592}], 'type': 'MATERIEL'}, {'id': 4, 'mentions': [{'value': 'panneaux de signalisation', 'start': 289, 'end': 314}], 'type': 'MATERIEL'}, {'id': 5, 'mentions': [{'value': 'blessés', 'start': 470, 'end': 477}], 'type': 'GROUP_OF_INDIVIDUALS'}, {'id': 6, 'mentions': [{'value': 'hélicoptère', 'start': 499, 'end': 510}], 'type': 'MATERIEL'}, {'id': 7, 'mentions': [{'value': 'garde du corps', 'start': 353, 'end': 367}], 'type': 'CIVILIAN'}, {'id': 8, 'mentions': [{'value': 'Ma passion', 'start': 36, 'end': 46}, {'value': 'ONG', 'start': 260, 'end': 263}], 'type': 'NON_GOVERNMENTAL_ORGANISATION'}, {'id': 9, 'mentions': [{'value': 'autoroute de Saint-Marin', 'start': 169, 'end': 193}], 'type': 'PLACE'}, {'id': 10, 'mentions': [{'value': 'Italie', 'start': 197, 'end': 203}], 'type': 'PLACE'}, {'id': 11, 'mentions': [{'value': 'hôpital', 'start': 521, 'end': 528}], 'type': 'PLACE'}, {'id': 12, 'mentions': [{'value': 'passagers', 'start': 233, 'end': 242}], 'type': 'GROUP_OF_INDIVIDUALS'}, {'id': 13, 'mentions': [{'value': 'passagers', 'start': 397, 'end': 406}], 'type': 'GROUP_OF_INDIVIDUALS'}, {'id': 14, 'mentions': [{'value': 'conducteur', 'start': 533, 'end': 543}, {'value': 'Il', 'start': 594, 'end': 596}], 'type': 'TERRORIST_OR_CRIMINAL'}, {'id': 15, 'mentions': [{'value': '30 juin 2022', 'start': 83, 'end': 95}], 'type': 'TIME_EXACT'}, {'id': 16, 'mentions': [{'value': 'Anam', 'start': 0, 'end': 4}], 'type': 'FIRSTNAME'}, {'id': 17, 'mentions': [{'value': 'Destresse', 'start': 5, 'end': 14}], 'type': 'LASTNAME'}, {'id': 18, 'mentions': [{'value': 'président', 'start': 16, 'end': 25}], 'type': 'CATEGORY'}, {'id': 19, 'mentions': [{'value': 'garde du corps', 'start': 353, 'end': 367}], 'type': 'CATEGORY'}, {'id': 20, 'mentions': [{'value': 'conducteur', 'start': 533, 'end': 543}], 'type': 'CATEGORY'}, {'id': 21, 'mentions': [{'value': 'deux', 'start': 392, 'end': 396}], 'type': 'QUANTITY_EXACT'}, {'id': 22, 'mentions': [{'value': '20', 'start': 230, 'end': 232}], 'type': 'QUANTITY_EXACT'}, {'id': 23, 'mentions': [{'value': 'Anam', 'start': 431, 'end': 435}], 'type': 'FIRSTNAME'}, {'id': 24, 'mentions': [{'value': 'Destresse', 'start': 436, 'end': 445}], 'type': 'LASTNAME'}]\n",
      "[[0, 'STARTED_IN', 9], [7, 'IS_LOCATED_IN', 9], [5, 'IS_LOCATED_IN', 10], [1, 'GENDER_FEMALE', 1], [12, 'IS_LOCATED_IN', 10], [0, 'IS_LOCATED_IN', 10], [1, 'IS_LOCATED_IN', 10], [13, 'IS_LOCATED_IN', 9], [14, 'IS_LOCATED_IN', 10], [1, 'HAS_CATEGORY', 18], [5, 'IS_LOCATED_IN', 9], [9, 'IS_LOCATED_IN', 10], [14, 'IS_DEAD_ON', 15], [7, 'HAS_CATEGORY', 19], [12, 'IS_LOCATED_IN', 9], [0, 'IS_LOCATED_IN', 9], [7, 'GENDER_MALE', 7], [11, 'IS_LOCATED_IN', 10], [1, 'IS_LOCATED_IN', 9], [14, 'IS_LOCATED_IN', 9], [14, 'HAS_CATEGORY', 20], [0, 'STARTED_IN', 10], [0, 'START_DATE', 15], [7, 'IS_LOCATED_IN', 10], [0, 'END_DATE', 15], [14, 'GENDER_MALE', 14], [12, 'IS_OF_SIZE', 22], [13, 'IS_LOCATED_IN', 10], [1, 'IS_LOCATED_IN', 11], [13, 'IS_OF_SIZE', 21]]\n"
     ]
    }
   ],
   "source": [
    "example = train_df.loc[181]\n",
    "\n",
    "print(example.text)\n",
    "print(example.entities)\n",
    "print(example.relations)"
   ]
  },
  {
   "cell_type": "markdown",
   "id": "9751ea0c",
   "metadata": {},
   "source": [
    "## Statistiques du dataset\n",
    "\n",
    "#### Pour les entités"
   ]
  },
  {
   "cell_type": "code",
   "execution_count": 6,
   "id": "cb14dc6c",
   "metadata": {},
   "outputs": [
    {
     "data": {
      "text/plain": [
       "800"
      ]
     },
     "execution_count": 6,
     "metadata": {},
     "output_type": "execute_result"
    }
   ],
   "source": [
    "len(train_df)"
   ]
  },
  {
   "cell_type": "code",
   "execution_count": 7,
   "id": "ea3d515d",
   "metadata": {},
   "outputs": [
    {
     "name": "stdout",
     "output_type": "stream",
     "text": [
      "Nombre de fois que chaque type d'entité apparaît dans tout le dataset (ordre décroissant) :\n",
      "MATERIEL: 4546 fois\n",
      "PLACE: 3116 fois\n",
      "CIVILIAN: 2900 fois\n",
      "GROUP_OF_INDIVIDUALS: 2768 fois\n",
      "FIRSTNAME: 1177 fois\n",
      "LASTNAME: 1157 fois\n",
      "NON_GOVERNMENTAL_ORGANISATION: 1057 fois\n",
      "CATEGORY: 886 fois\n",
      "NON_MILITARY_GOVERNMENT_ORGANISATION: 831 fois\n",
      "TIME_EXACT: 741 fois\n",
      "ACCIDENT: 559 fois\n",
      "FIRE: 372 fois\n",
      "GATHERING: 356 fois\n",
      "QUANTITY_FUZZY: 348 fois\n",
      "TIME_FUZZY: 273 fois\n",
      "CBRN_EVENT: 258 fois\n",
      "TERRORIST_OR_CRIMINAL: 244 fois\n",
      "QUANTITY_EXACT: 229 fois\n",
      "NATIONALITY: 174 fois\n",
      "EPIDEMIC: 137 fois\n",
      "NATURAL_EVENT: 134 fois\n",
      "THEFT: 134 fois\n",
      "ECONOMICAL_CRISIS: 125 fois\n",
      "CRIMINAL_ARREST: 100 fois\n",
      "RIOT: 92 fois\n",
      "COLOR: 89 fois\n",
      "BOMBING: 79 fois\n",
      "STRIKE: 70 fois\n",
      "POLLUTION: 68 fois\n",
      "DEMONSTRATION: 67 fois\n",
      "MILITARY_ORGANISATION: 60 fois\n",
      "ILLEGAL_CIVIL_DEMONSTRATION: 60 fois\n",
      "POLITICAL_VIOLENCE: 58 fois\n",
      "SUICIDE: 55 fois\n",
      "TIME_MIN: 52 fois\n",
      "TRAFFICKING: 52 fois\n",
      "COUP_D_ETAT: 49 fois\n",
      "QUANTITY_MIN: 44 fois\n",
      "ELECTION: 42 fois\n",
      "AGITATING_TROUBLE_MAKING: 41 fois\n",
      "NATURAL_CAUSES_DEATH: 40 fois\n",
      "CIVIL_WAR_OUTBREAK: 39 fois\n",
      "WEIGHT: 38 fois\n",
      "MILITARY: 36 fois\n",
      "MATERIAL_REFERENCE: 33 fois\n",
      "DRUG_OPERATION: 28 fois\n",
      "TIME_MAX: 24 fois\n",
      "INTERGOVERNMENTAL_ORGANISATION: 20 fois\n",
      "LENGTH: 19 fois\n",
      "WIDTH: 14 fois\n",
      "HEIGHT: 13 fois\n",
      "LONGITUDE: 12 fois\n",
      "HOOLIGANISM_TROUBLEMAKING: 11 fois\n",
      "LATITUDE: 10 fois\n",
      "QUANTITY_MAX: 1 fois\n",
      "\n",
      "Nombre total d'entités dans tout le dataset : 17827\n",
      "Nombre moyen d'entités par document : 22.28\n",
      "Nombre total de types d'entités : 55\n"
     ]
    }
   ],
   "source": [
    "# Initialisation des compteurs pour les entités\n",
    "entity_counts = {}\n",
    "total_entities = 0\n",
    "\n",
    "# Comptabiliser les types d'entités et le nombre total d'entités\n",
    "for row in train_df['entities']:\n",
    "    for entity in row:\n",
    "        entity_type = entity['type']\n",
    "        if entity_type in entity_counts:\n",
    "            entity_counts[entity_type] += len(entity['mentions'])\n",
    "        else:\n",
    "            entity_counts[entity_type] = len(entity['mentions'])\n",
    "        total_entities += 1\n",
    "\n",
    "# Calcul de la moyenne des entités par document\n",
    "average_entities_per_document = total_entities / len(train_df)\n",
    "\n",
    "# Calcul du nombre total de types d'entités\n",
    "total_entity_types = len(entity_counts)\n",
    "\n",
    "# Trier les types d'entités par fréquence décroissante\n",
    "sorted_entity_counts = sorted(entity_counts.items(), key=lambda x: x[1], reverse=True)\n",
    "\n",
    "# Affichage des résultats\n",
    "print(\"Nombre de fois que chaque type d'entité apparaît dans tout le dataset (ordre décroissant) :\")\n",
    "for entity_type, count in sorted_entity_counts:\n",
    "    print(f\"{entity_type}: {count} fois\")\n",
    "\n",
    "print(f\"\\nNombre total d'entités dans tout le dataset : {total_entities}\")\n",
    "print(f\"Nombre moyen d'entités par document : {average_entities_per_document:.2f}\")\n",
    "print(f\"Nombre total de types d'entités : {total_entity_types}\")"
   ]
  },
  {
   "cell_type": "markdown",
   "id": "ae9f745d",
   "metadata": {},
   "source": [
    "#### Pour les relations"
   ]
  },
  {
   "cell_type": "code",
   "execution_count": 8,
   "id": "9189ad71",
   "metadata": {},
   "outputs": [
    {
     "name": "stdout",
     "output_type": "stream",
     "text": [
      "Nombre de fois que chaque type de relation apparaît dans tout le dataset (ordre décroissant) :\n",
      "IS_LOCATED_IN: 9025 fois\n",
      "HAS_CONTROL_OVER: 4547 fois\n",
      "IS_IN_CONTACT_WITH: 2919 fois\n",
      "OPERATES_IN: 2435 fois\n",
      "STARTED_IN: 1860 fois\n",
      "IS_AT_ODDS_WITH: 1526 fois\n",
      "IS_PART_OF: 1462 fois\n",
      "START_DATE: 1034 fois\n",
      "GENDER_MALE: 908 fois\n",
      "HAS_CATEGORY: 894 fois\n",
      "END_DATE: 874 fois\n",
      "HAS_CONSEQUENCE: 769 fois\n",
      "INITIATED: 469 fois\n",
      "IS_OF_SIZE: 438 fois\n",
      "GENDER_FEMALE: 414 fois\n",
      "IS_COOPERATING_WITH: 372 fois\n",
      "RESIDES_IN: 222 fois\n",
      "HAS_FAMILY_RELATIONSHIP: 222 fois\n",
      "HAS_QUANTITY: 191 fois\n",
      "IS_OF_NATIONALITY: 179 fois\n",
      "CREATED: 126 fois\n",
      "HAS_COLOR: 91 fois\n",
      "DEATHS_NUMBER: 75 fois\n",
      "INJURED_NUMBER: 70 fois\n",
      "IS_DEAD_ON: 68 fois\n",
      "IS_BORN_IN: 50 fois\n",
      "WEIGHS: 41 fois\n",
      "DIED_IN: 41 fois\n",
      "IS_REGISTERED_AS: 34 fois\n",
      "IS_BORN_ON: 20 fois\n",
      "HAS_FOR_LENGTH: 16 fois\n",
      "WAS_CREATED_IN: 15 fois\n",
      "HAS_FOR_WIDTH: 14 fois\n",
      "WAS_DISSOLVED_IN: 14 fois\n",
      "HAS_FOR_HEIGHT: 12 fois\n",
      "HAS_LONGITUDE: 12 fois\n",
      "HAS_LATITUDE: 10 fois\n",
      "\n",
      "Nombre total de relations dans tout le dataset : 31469\n",
      "Nombre moyen de relations par document : 39.34\n",
      "Nombre total de types de relations : 37\n"
     ]
    }
   ],
   "source": [
    "# Initialisation des compteurs\n",
    "relation_counts = {}\n",
    "total_relations = 0\n",
    "\n",
    "# Comptabiliser les types de relations et le nombre total de relations\n",
    "for row in train_df['relations']:\n",
    "    for relation in row:\n",
    "        relation_type = relation[1]\n",
    "        if relation_type in relation_counts:\n",
    "            relation_counts[relation_type] += 1\n",
    "        else:\n",
    "            relation_counts[relation_type] = 1\n",
    "        total_relations += 1\n",
    "\n",
    "# Calcul de la moyenne des relations par document\n",
    "average_relations_per_document = total_relations / len(train_df)\n",
    "\n",
    "# Calcul du nombre total de types de relations\n",
    "total_relation_types = len(relation_counts)\n",
    "\n",
    "# Trier les types de relations par fréquence décroissante\n",
    "sorted_relation_counts = sorted(relation_counts.items(), key=lambda x: x[1], reverse=True)\n",
    "\n",
    "# Affichage des résultats\n",
    "print(\"Nombre de fois que chaque type de relation apparaît dans tout le dataset (ordre décroissant) :\")\n",
    "for relation_type, count in sorted_relation_counts:\n",
    "    print(f\"{relation_type}: {count} fois\")\n",
    "\n",
    "print(f\"\\nNombre total de relations dans tout le dataset : {total_relations}\")\n",
    "print(f\"Nombre moyen de relations par document : {average_relations_per_document:.2f}\")\n",
    "print(f\"Nombre total de types de relations : {total_relation_types}\")"
   ]
  },
  {
   "cell_type": "markdown",
   "id": "669b0b11",
   "metadata": {},
   "source": [
    "#### Nombre de phrases dans les textes"
   ]
  },
  {
   "cell_type": "code",
   "execution_count": 9,
   "id": "1109aeea",
   "metadata": {},
   "outputs": [
    {
     "name": "stderr",
     "output_type": "stream",
     "text": [
      "/home/apeuvot/anaconda3/envs/textmine/lib/python3.11/site-packages/tqdm/auto.py:21: TqdmWarning: IProgress not found. Please update jupyter and ipywidgets. See https://ipywidgets.readthedocs.io/en/stable/user_install.html\n",
      "  from .autonotebook import tqdm as notebook_tqdm\n",
      "/home/apeuvot/anaconda3/envs/textmine/lib/python3.11/site-packages/transformers/utils/generic.py:441: FutureWarning: `torch.utils._pytree._register_pytree_node` is deprecated. Please use `torch.utils._pytree.register_pytree_node` instead.\n",
      "  _torch_pytree._register_pytree_node(\n",
      "/home/apeuvot/anaconda3/envs/textmine/lib/python3.11/site-packages/transformers/utils/generic.py:309: FutureWarning: `torch.utils._pytree._register_pytree_node` is deprecated. Please use `torch.utils._pytree.register_pytree_node` instead.\n",
      "  _torch_pytree._register_pytree_node(\n"
     ]
    },
    {
     "name": "stdout",
     "output_type": "stream",
     "text": [
      "Nombre max de phrases : 15\n",
      "Nombre min de phrases : 2\n",
      "Nombre médian de phrases : 7.0\n",
      "Nombre moyen de phrases : 7.0075\n"
     ]
    }
   ],
   "source": [
    "import spacy\n",
    "\n",
    "# Charger le modèle français de spaCy\n",
    "nlp = spacy.load(\"fr_core_news_sm\")\n",
    "\n",
    "\n",
    "# Fonction pour compter le nombre de phrases avec spaCy\n",
    "def count_sentences_spacy(text):\n",
    "    doc = nlp(text)\n",
    "    return len(list(doc.sents))\n",
    "\n",
    "# Appliquer la fonction à la colonne 'text' pour obtenir le nombre de phrases dans chaque texte\n",
    "train_df['sentence_count'] = train_df['text'].apply(count_sentences_spacy)\n",
    "\n",
    "# Calcul des statistiques\n",
    "max_sentences = train_df['sentence_count'].max()\n",
    "min_sentences = train_df['sentence_count'].min()\n",
    "median_sentences = train_df['sentence_count'].median()\n",
    "mean_sentences = train_df['sentence_count'].mean()\n",
    "\n",
    "# Afficher les résultats\n",
    "print(f\"Nombre max de phrases : {max_sentences}\")\n",
    "print(f\"Nombre min de phrases : {min_sentences}\")\n",
    "print(f\"Nombre médian de phrases : {median_sentences}\")\n",
    "print(f\"Nombre moyen de phrases : {mean_sentences}\")\n"
   ]
  },
  {
   "cell_type": "markdown",
   "id": "5f622d8e",
   "metadata": {},
   "source": [
    "##### Tokens"
   ]
  },
  {
   "cell_type": "code",
   "execution_count": 1,
   "id": "5e59c1c1",
   "metadata": {},
   "outputs": [
    {
     "name": "stderr",
     "output_type": "stream",
     "text": [
      "/home/apeuvot/anaconda3/envs/textmine/lib/python3.11/site-packages/huggingface_hub/file_download.py:1150: FutureWarning: `resume_download` is deprecated and will be removed in version 1.0.0. Downloads always resume when possible. If you want to force a new download, use `force_download=True`.\n",
      "  warnings.warn(\n"
     ]
    }
   ],
   "source": [
    "import pandas as pd\n",
    "from transformers import AutoTokenizer\n",
    "\n",
    "tokenizer = AutoTokenizer.from_pretrained('roberta-large')"
   ]
  },
  {
   "cell_type": "code",
   "execution_count": 5,
   "id": "4e1ebc89",
   "metadata": {},
   "outputs": [],
   "source": [
    "# train_df = pd.read_csv(\"test_01-07-2024.csv\") # chargement des données d'entraînement depuis Kaggle\n",
    "# train_df = train_df.set_index(\"id\")\n",
    "# train_df.entities = train_df.entities.apply(json.loads) # parsing des entités"
   ]
  },
  {
   "cell_type": "code",
   "execution_count": 10,
   "id": "5bd64038",
   "metadata": {},
   "outputs": [
    {
     "name": "stdout",
     "output_type": "stream",
     "text": [
      "Nombre de textes dépassant 512 tokens : 0\n",
      "Proportion par rapport au DataFrame entier : 0.00%\n",
      "Nombre moyen de tokens par texte : 244.67\n"
     ]
    }
   ],
   "source": [
    "# Calculer le nombre de tokens pour chaque texte\n",
    "train_df['token_count'] = train_df['text'].apply(lambda x: len(tokenizer(x)['input_ids']))\n",
    "\n",
    "# Filtrer et afficher les textes avec plus de 512 tokens\n",
    "long_texts = train_df[train_df['token_count'] > 512]\n",
    "for index, row in long_texts.iterrows():\n",
    "    print(f\"Texte dépassant 512 tokens (index {index}): {row['text']}\")\n",
    "\n",
    "# Calculer le nombre et la proportion des textes dépassant 512 tokens\n",
    "num_long_texts = len(long_texts)\n",
    "total_texts = len(train_df)\n",
    "proportion = num_long_texts / total_texts\n",
    "# Calculer le nombre de tokens moyen par texte\n",
    "average_token_count = train_df['token_count'].mean()\n",
    "\n",
    "# Afficher les résultats\n",
    "print(f\"Nombre de textes dépassant 512 tokens : {num_long_texts}\")\n",
    "print(f\"Proportion par rapport au DataFrame entier : {proportion:.2%}\")\n",
    "print(f\"Nombre moyen de tokens par texte : {average_token_count:.2f}\")\n"
   ]
  },
  {
   "cell_type": "markdown",
   "id": "69bbdeda",
   "metadata": {},
   "source": [
    "#### Check combinations"
   ]
  },
  {
   "cell_type": "code",
   "execution_count": 19,
   "id": "3351486f",
   "metadata": {},
   "outputs": [],
   "source": [
    "import os\n",
    "import sys\n",
    "parent_dir = os.path.abspath(os.path.join(os.getcwd(), os.pardir))\n",
    "sys.path.insert(0, parent_dir)\n",
    "from utils.ontology import *"
   ]
  },
  {
   "cell_type": "code",
   "execution_count": 20,
   "id": "71e7cf1e",
   "metadata": {},
   "outputs": [
    {
     "data": {
      "text/plain": [
       "[[0, 'STARTED_IN', 9],\n",
       " [7, 'IS_LOCATED_IN', 9],\n",
       " [5, 'IS_LOCATED_IN', 10],\n",
       " [1, 'GENDER_FEMALE', 1],\n",
       " [12, 'IS_LOCATED_IN', 10],\n",
       " [0, 'IS_LOCATED_IN', 10],\n",
       " [1, 'IS_LOCATED_IN', 10],\n",
       " [13, 'IS_LOCATED_IN', 9],\n",
       " [14, 'IS_LOCATED_IN', 10],\n",
       " [1, 'HAS_CATEGORY', 18],\n",
       " [5, 'IS_LOCATED_IN', 9],\n",
       " [9, 'IS_LOCATED_IN', 10],\n",
       " [14, 'IS_DEAD_ON', 15],\n",
       " [7, 'HAS_CATEGORY', 19],\n",
       " [12, 'IS_LOCATED_IN', 9],\n",
       " [0, 'IS_LOCATED_IN', 9],\n",
       " [7, 'GENDER_MALE', 7],\n",
       " [11, 'IS_LOCATED_IN', 10],\n",
       " [1, 'IS_LOCATED_IN', 9],\n",
       " [14, 'IS_LOCATED_IN', 9],\n",
       " [14, 'HAS_CATEGORY', 20],\n",
       " [0, 'STARTED_IN', 10],\n",
       " [0, 'START_DATE', 15],\n",
       " [7, 'IS_LOCATED_IN', 10],\n",
       " [0, 'END_DATE', 15],\n",
       " [14, 'GENDER_MALE', 14],\n",
       " [12, 'IS_OF_SIZE', 22],\n",
       " [13, 'IS_LOCATED_IN', 10],\n",
       " [1, 'IS_LOCATED_IN', 11],\n",
       " [13, 'IS_OF_SIZE', 21]]"
      ]
     },
     "execution_count": 20,
     "metadata": {},
     "output_type": "execute_result"
    }
   ],
   "source": [
    "train_df['relations'].loc[181]"
   ]
  },
  {
   "cell_type": "code",
   "execution_count": 26,
   "id": "295f9c58",
   "metadata": {},
   "outputs": [],
   "source": [
    "possible_triples = set()\n",
    "\n",
    "for i, row in train_df.iterrows():\n",
    "    for relation in row['relations']:\n",
    "        id_entity_subject, relation_type, id_entity_object = relation\n",
    "        type_entity_subject = [entity['type'] for entity in row['entities'] if entity['id'] == id_entity_subject][0]\n",
    "        type_entity_object = [entity['type'] for entity in row['entities'] if entity['id'] == id_entity_object][0]\n",
    "        parent_entity_subject = TYPE_TO_PARENT.get(type_entity_subject)\n",
    "        parent_entity_object = TYPE_TO_PARENT.get(type_entity_object)\n",
    "        possible_triples.add((parent_entity_subject, relation_type, parent_entity_object))"
   ]
  },
  {
   "cell_type": "code",
   "execution_count": 30,
   "id": "a5ccf11d",
   "metadata": {},
   "outputs": [
    {
     "name": "stdout",
     "output_type": "stream",
     "text": [
      "('PERSON', 'HAS_CATEGORY', 'CATEGORY')\n",
      "('PERSON', 'RESIDES_IN', 'PLACE')\n",
      "('PLACE', 'HAS_CONTROL_OVER', 'MATERIEL')\n",
      "('PERSON', 'GENDER_MALE', 'PERSON')\n",
      "('ORG', 'IS_IN_CONTACT_WITH', 'ORG')\n",
      "('ORG', 'OPERATES_IN', 'PLACE')\n",
      "('PERSON', 'CREATED', 'MATERIEL')\n",
      "('PLACE', 'HAS_LATITUDE', 'COORDINATE')\n",
      "('EVENT', 'END_DATE', 'TIME')\n",
      "('ORG', 'IS_OF_SIZE', 'QUANTITY')\n",
      "('ORG', 'WAS_DISSOLVED_IN', 'TIME')\n",
      "('EVENT', 'STARTED_IN', 'PLACE')\n",
      "('ORG', 'IS_IN_CONTACT_WITH', 'PERSON')\n",
      "('EVENT', 'IS_LOCATED_IN', 'PLACE')\n",
      "('MATERIEL', 'WAS_CREATED_IN', 'TIME')\n",
      "('ORG', 'HAS_CONTROL_OVER', 'PLACE')\n",
      "('ORG', 'INITIATED', 'ORG')\n",
      "('PLACE', 'IS_LOCATED_IN', 'PLACE')\n",
      "('ORG', 'HAS_CONTROL_OVER', 'MATERIEL')\n",
      "('EVENT', 'START_DATE', 'TIME')\n",
      "('ORG', 'INITIATED', 'EVENT')\n",
      "('PERSON', 'CREATED', 'ORG')\n",
      "('PERSON', 'IS_IN_CONTACT_WITH', 'ORG')\n",
      "('PERSON', 'IS_OF_NATIONALITY', 'NATONALITY')\n",
      "('PERSON', 'HAS_CONTROL_OVER', 'PLACE')\n",
      "('PERSON', 'HAS_CONTROL_OVER', 'MATERIEL')\n",
      "('PERSON', 'IS_IN_CONTACT_WITH', 'PERSON')\n",
      "('ORG', 'IS_OF_NATIONALITY', 'NATONALITY')\n",
      "('ORG', 'STARTED_IN', 'PLACE')\n",
      "('ORG', 'IS_LOCATED_IN', 'PLACE')\n",
      "('MATERIEL', 'WEIGHS', 'MEASURE')\n",
      "('ORG', 'HAS_CONTROL_OVER', 'ORG')\n",
      "('EVENT', 'INJURED_NUMBER', 'QUANTITY')\n",
      "('PERSON', 'HAS_FAMILY_RELATIONSHIP', 'PERSON')\n",
      "('PLACE', 'HAS_LONGITUDE', 'COORDINATE')\n",
      "('MATERIEL', 'HAS_FOR_WIDTH', 'MEASURE')\n",
      "('ORG', 'END_DATE', 'TIME')\n",
      "('EVENT', 'HAS_CONSEQUENCE', 'ORG')\n",
      "('PERSON', 'INITIATED', 'EVENT')\n",
      "('PERSON', 'GENDER_FEMALE', 'PERSON')\n",
      "('ORG', 'IS_PART_OF', 'ORG')\n",
      "('ORG', 'HAS_CONTROL_OVER', 'PERSON')\n",
      "('PERSON', 'HAS_CONTROL_OVER', 'ORG')\n",
      "('ORG', 'IS_COOPERATING_WITH', 'ORG')\n",
      "('PERSON', 'IS_DEAD_ON', 'TIME')\n",
      "('MATERIEL', 'HAS_COLOR', 'COLOR')\n",
      "('EVENT', 'HAS_CONSEQUENCE', 'EVENT')\n",
      "('MATERIEL', 'IS_REGISTERED_AS', 'REFERENCE')\n",
      "('EVENT', 'DEATHS_NUMBER', 'QUANTITY')\n",
      "('PERSON', 'DIED_IN', 'EVENT')\n",
      "('MATERIEL', 'HAS_FOR_LENGTH', 'MEASURE')\n",
      "('PERSON', 'IS_BORN_IN', 'PLACE')\n",
      "('PERSON', 'IS_PART_OF', 'ORG')\n",
      "('PERSON', 'IS_LOCATED_IN', 'PLACE')\n",
      "('ORG', 'IS_COOPERATING_WITH', 'PERSON')\n",
      "('PERSON', 'IS_COOPERATING_WITH', 'ORG')\n",
      "('PERSON', 'HAS_CONTROL_OVER', 'PERSON')\n",
      "('ORG', 'START_DATE', 'TIME')\n",
      "('ORG', 'IS_AT_ODDS_WITH', 'ORG')\n",
      "('ORG', 'CREATED', 'MATERIEL')\n",
      "('ORG', 'WAS_CREATED_IN', 'TIME')\n",
      "('PERSON', 'IS_AT_ODDS_WITH', 'ORG')\n",
      "('PERSON', 'IS_COOPERATING_WITH', 'PERSON')\n",
      "('PERSON', 'IS_BORN_ON', 'TIME')\n",
      "('ORG', 'IS_AT_ODDS_WITH', 'PERSON')\n",
      "('ORG', 'DEATHS_NUMBER', 'QUANTITY')\n",
      "('MATERIEL', 'HAS_QUANTITY', 'QUANTITY')\n",
      "('PLACE', 'IS_OF_NATIONALITY', 'NATONALITY')\n",
      "('PERSON', 'IS_AT_ODDS_WITH', 'PERSON')\n",
      "('MATERIEL', 'HAS_FOR_HEIGHT', 'MEASURE')\n",
      "('ORG', 'CREATED', 'ORG')\n"
     ]
    }
   ],
   "source": [
    "for triple in possible_triples:\n",
    "    if triple not in VALID_COMBINATIONS:\n",
    "        print(triple)"
   ]
  },
  {
   "cell_type": "code",
   "execution_count": null,
   "id": "6ac26fa2",
   "metadata": {},
   "outputs": [],
   "source": []
  },
  {
   "cell_type": "code",
   "execution_count": 8,
   "id": "e13a1c99",
   "metadata": {},
   "outputs": [
    {
     "name": "stdout",
     "output_type": "stream",
     "text": [
      "0\n",
      "33\n",
      "39\n",
      "50\n",
      "68\n"
     ]
    }
   ],
   "source": [
    "max_nb_entities_in_example = 0\n",
    "for i, row in train_df.iterrows():\n",
    "    nb_entities = 0\n",
    "    for entity in row['entities']:\n",
    "        nb_entities += len(entity['mentions'])\n",
    "    if nb_entities > max_nb_entities_in_example:\n",
    "        max_nb_entities_in_example = nb_entities\n",
    "print(max_nb_entities_in_example)"
   ]
  },
  {
   "cell_type": "code",
   "execution_count": 6,
   "id": "43498e78",
   "metadata": {},
   "outputs": [
    {
     "data": {
      "text/plain": [
       "[{'id': 0,\n",
       "  'mentions': [{'value': 'accident', 'start': 70, 'end': 78},\n",
       "   {'value': 'accident de circulation', 'start': 100, 'end': 123},\n",
       "   {'value': 'accident', 'start': 275, 'end': 283}],\n",
       "  'type': 'ACCIDENT'},\n",
       " {'id': 1,\n",
       "  'mentions': [{'value': 'Anam Destresse', 'start': 0, 'end': 14},\n",
       "   {'value': 'Anam Destresse', 'start': 431, 'end': 445}],\n",
       "  'type': 'CIVILIAN'},\n",
       " {'id': 2,\n",
       "  'mentions': [{'value': 'moto', 'start': 148, 'end': 152},\n",
       "   {'value': 'moto', 'start': 550, 'end': 554}],\n",
       "  'type': 'MATERIEL'},\n",
       " {'id': 3,\n",
       "  'mentions': [{'value': 'bus', 'start': 159, 'end': 162},\n",
       "   {'value': 'bus', 'start': 208, 'end': 211},\n",
       "   {'value': 'bus', 'start': 589, 'end': 592}],\n",
       "  'type': 'MATERIEL'},\n",
       " {'id': 4,\n",
       "  'mentions': [{'value': 'panneaux de signalisation',\n",
       "    'start': 289,\n",
       "    'end': 314}],\n",
       "  'type': 'MATERIEL'},\n",
       " {'id': 5,\n",
       "  'mentions': [{'value': 'blessés', 'start': 470, 'end': 477}],\n",
       "  'type': 'GROUP_OF_INDIVIDUALS'},\n",
       " {'id': 6,\n",
       "  'mentions': [{'value': 'hélicoptère', 'start': 499, 'end': 510}],\n",
       "  'type': 'MATERIEL'},\n",
       " {'id': 7,\n",
       "  'mentions': [{'value': 'garde du corps', 'start': 353, 'end': 367}],\n",
       "  'type': 'CIVILIAN'},\n",
       " {'id': 8,\n",
       "  'mentions': [{'value': 'Ma passion', 'start': 36, 'end': 46},\n",
       "   {'value': 'ONG', 'start': 260, 'end': 263}],\n",
       "  'type': 'NON_GOVERNMENTAL_ORGANISATION'},\n",
       " {'id': 9,\n",
       "  'mentions': [{'value': 'autoroute de Saint-Marin',\n",
       "    'start': 169,\n",
       "    'end': 193}],\n",
       "  'type': 'PLACE'},\n",
       " {'id': 10,\n",
       "  'mentions': [{'value': 'Italie', 'start': 197, 'end': 203}],\n",
       "  'type': 'PLACE'},\n",
       " {'id': 11,\n",
       "  'mentions': [{'value': 'hôpital', 'start': 521, 'end': 528}],\n",
       "  'type': 'PLACE'},\n",
       " {'id': 12,\n",
       "  'mentions': [{'value': 'passagers', 'start': 233, 'end': 242}],\n",
       "  'type': 'GROUP_OF_INDIVIDUALS'},\n",
       " {'id': 13,\n",
       "  'mentions': [{'value': 'passagers', 'start': 397, 'end': 406}],\n",
       "  'type': 'GROUP_OF_INDIVIDUALS'},\n",
       " {'id': 14,\n",
       "  'mentions': [{'value': 'conducteur', 'start': 533, 'end': 543},\n",
       "   {'value': 'Il', 'start': 594, 'end': 596}],\n",
       "  'type': 'TERRORIST_OR_CRIMINAL'},\n",
       " {'id': 15,\n",
       "  'mentions': [{'value': '30 juin 2022', 'start': 83, 'end': 95}],\n",
       "  'type': 'TIME_EXACT'},\n",
       " {'id': 16,\n",
       "  'mentions': [{'value': 'Anam', 'start': 0, 'end': 4}],\n",
       "  'type': 'FIRSTNAME'},\n",
       " {'id': 17,\n",
       "  'mentions': [{'value': 'Destresse', 'start': 5, 'end': 14}],\n",
       "  'type': 'LASTNAME'},\n",
       " {'id': 18,\n",
       "  'mentions': [{'value': 'président', 'start': 16, 'end': 25}],\n",
       "  'type': 'CATEGORY'},\n",
       " {'id': 19,\n",
       "  'mentions': [{'value': 'garde du corps', 'start': 353, 'end': 367}],\n",
       "  'type': 'CATEGORY'},\n",
       " {'id': 20,\n",
       "  'mentions': [{'value': 'conducteur', 'start': 533, 'end': 543}],\n",
       "  'type': 'CATEGORY'},\n",
       " {'id': 21,\n",
       "  'mentions': [{'value': 'deux', 'start': 392, 'end': 396}],\n",
       "  'type': 'QUANTITY_EXACT'},\n",
       " {'id': 22,\n",
       "  'mentions': [{'value': '20', 'start': 230, 'end': 232}],\n",
       "  'type': 'QUANTITY_EXACT'},\n",
       " {'id': 23,\n",
       "  'mentions': [{'value': 'Anam', 'start': 431, 'end': 435}],\n",
       "  'type': 'FIRSTNAME'},\n",
       " {'id': 24,\n",
       "  'mentions': [{'value': 'Destresse', 'start': 436, 'end': 445}],\n",
       "  'type': 'LASTNAME'}]"
      ]
     },
     "execution_count": 6,
     "metadata": {},
     "output_type": "execute_result"
    }
   ],
   "source": [
    "train_df.loc[181]['entities']"
   ]
  }
 ],
 "metadata": {
  "kaggle": {
   "accelerator": "none",
   "dataSources": [
    {
     "databundleVersionId": 8891087,
     "sourceId": 78223,
     "sourceType": "competition"
    }
   ],
   "dockerImageVersionId": 30732,
   "isGpuEnabled": false,
   "isInternetEnabled": true,
   "language": "python",
   "sourceType": "notebook"
  },
  "kernelspec": {
   "display_name": "textmine",
   "language": "python",
   "name": "python3"
  },
  "language_info": {
   "codemirror_mode": {
    "name": "ipython",
    "version": 3
   },
   "file_extension": ".py",
   "mimetype": "text/x-python",
   "name": "python",
   "nbconvert_exporter": "python",
   "pygments_lexer": "ipython3",
   "version": "3.12.6"
  },
  "papermill": {
   "default_parameters": {},
   "duration": 5.845475,
   "end_time": "2024-06-20T09:52:07.770901",
   "environment_variables": {},
   "exception": null,
   "input_path": "__notebook__.ipynb",
   "output_path": "__notebook__.ipynb",
   "parameters": {},
   "start_time": "2024-06-20T09:52:01.925426",
   "version": "2.5.0"
  }
 },
 "nbformat": 4,
 "nbformat_minor": 5
}
